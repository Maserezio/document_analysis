{
 "cells": [
  {
   "cell_type": "code",
   "execution_count": 15,
   "metadata": {},
   "outputs": [],
   "source": [
    "import os\n",
    "import shutil\n",
    "import matplotlib.pyplot as plt\n",
    "import warnings\n",
    "warnings.filterwarnings(\"ignore\")\n",
    "\n",
    "from ultralytics import YOLO"
   ]
  },
  {
   "cell_type": "code",
   "execution_count": 16,
   "metadata": {},
   "outputs": [],
   "source": [
    "model = YOLO(\"./yolov8n.pt\")"
   ]
  },
  {
   "cell_type": "code",
   "execution_count": 17,
   "metadata": {},
   "outputs": [],
   "source": [
    "dt_path = \"./imgs/dataset\"\n",
    "imgs_paths = []\n",
    "\n",
    "for i in os.listdir(dt_path):\n",
    "    if i.endswith(\".jpg\"):\n",
    "        imgs_paths.append(dt_path + \"/\" + i)\n",
    "\n",
    "imgs_paths.sort()"
   ]
  },
  {
   "cell_type": "code",
   "execution_count": 18,
   "metadata": {},
   "outputs": [],
   "source": [
    "results = model(imgs_paths, classes = [2], verbose = False) \n",
    "\n",
    "save_dir = \"./imgs/results\"\n",
    "\n",
    "if os.path.exists(save_dir):\n",
    "    shutil.rmtree(save_dir)\n",
    "    os.makedirs(save_dir)\n",
    "\n",
    "for idx, res in enumerate(results):\n",
    "    res.save_crop(save_dir + \"/img_\" + str(idx + 1))"
   ]
  },
  {
   "cell_type": "code",
   "execution_count": 26,
   "metadata": {},
   "outputs": [],
   "source": [
    "pt_dir = \"./imgs/pt\"\n",
    "\n",
    "if not os.path.exists(pt_dir):\n",
    "    os.makedirs(pt_dir)\n",
    "else:\n",
    "    shutil.rmtree(pt_dir)\n",
    "    os.makedirs(pt_dir)\n",
    "    \n",
    "for res in os.listdir(save_dir):\n",
    "    old_name = os.path.join(save_dir + \"/\" + res + \"/pt/im.jpg\")\n",
    "    new_name = os.path.join(save_dir + \"/\" + res + \"/pt/img_\" + res.split(\"_\")[1] + \".jpg\")\n",
    "    \n",
    "    os.rename(old_name, new_name)\n",
    "    shutil.copy(new_name, pt_dir)\n",
    "\n",
    "shutil.rmtree(save_dir, ignore_errors=True)"
   ]
  }
 ],
 "metadata": {
  "kernelspec": {
   "display_name": ".venv",
   "language": "python",
   "name": "python3"
  },
  "language_info": {
   "codemirror_mode": {
    "name": "ipython",
    "version": 3
   },
   "file_extension": ".py",
   "mimetype": "text/x-python",
   "name": "python",
   "nbconvert_exporter": "python",
   "pygments_lexer": "ipython3",
   "version": "3.10.12"
  }
 },
 "nbformat": 4,
 "nbformat_minor": 2
}
