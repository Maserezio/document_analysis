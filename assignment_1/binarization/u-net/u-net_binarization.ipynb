{
 "cells": [
  {
   "cell_type": "code",
   "id": "initial_id",
   "metadata": {
    "collapsed": true,
    "ExecuteTime": {
     "end_time": "2024-04-22T23:31:42.356980Z",
     "start_time": "2024-04-22T23:31:40.172168Z"
    }
   },
   "source": [
    "import torch\n",
    "print(torch.cuda.is_available())\n",
    "print(torch.version.cuda)"
   ],
   "outputs": [
    {
     "name": "stdout",
     "output_type": "stream",
     "text": [
      "True\n",
      "12.1\n"
     ]
    }
   ],
   "execution_count": 1
  },
  {
   "metadata": {
    "ExecuteTime": {
     "end_time": "2024-04-22T23:31:43.873294Z",
     "start_time": "2024-04-22T23:31:43.672476Z"
    }
   },
   "cell_type": "code",
   "source": "!nvidia-smi",
   "id": "7569873658e67f8a",
   "outputs": [
    {
     "name": "stdout",
     "output_type": "stream",
     "text": [
      "Tue Apr 23 01:31:43 2024       \r\n",
      "+---------------------------------------------------------------------------------------+\r\n",
      "| NVIDIA-SMI 535.171.04             Driver Version: 535.171.04   CUDA Version: 12.2     |\r\n",
      "|-----------------------------------------+----------------------+----------------------+\r\n",
      "| GPU  Name                 Persistence-M | Bus-Id        Disp.A | Volatile Uncorr. ECC |\r\n",
      "| Fan  Temp   Perf          Pwr:Usage/Cap |         Memory-Usage | GPU-Util  Compute M. |\r\n",
      "|                                         |                      |               MIG M. |\r\n",
      "|=========================================+======================+======================|\r\n",
      "|   0  NVIDIA GeForce RTX 3070 ...    Off | 00000000:01:00.0 Off |                  N/A |\r\n",
      "| N/A   42C    P0              29W / 115W |     11MiB /  8192MiB |      0%      Default |\r\n",
      "|                                         |                      |                  N/A |\r\n",
      "+-----------------------------------------+----------------------+----------------------+\r\n",
      "                                                                                         \r\n",
      "+---------------------------------------------------------------------------------------+\r\n",
      "| Processes:                                                                            |\r\n",
      "|  GPU   GI   CI        PID   Type   Process name                            GPU Memory |\r\n",
      "|        ID   ID                                                             Usage      |\r\n",
      "|=======================================================================================|\r\n",
      "|    0   N/A  N/A      1641      G   /usr/lib/xorg/Xorg                            4MiB |\r\n",
      "+---------------------------------------------------------------------------------------+\r\n"
     ]
    }
   ],
   "execution_count": 2
  },
  {
   "metadata": {
    "ExecuteTime": {
     "end_time": "2024-04-22T23:32:16.878062Z",
     "start_time": "2024-04-22T23:32:16.874200Z"
    }
   },
   "cell_type": "code",
   "source": [
    "import torch\n",
    "print(torch.__config__.show())"
   ],
   "id": "99bf0e1ea4d5ef4e",
   "outputs": [
    {
     "name": "stdout",
     "output_type": "stream",
     "text": [
      "PyTorch built with:\n",
      "  - GCC 9.3\n",
      "  - C++ Version: 201703\n",
      "  - Intel(R) oneAPI Math Kernel Library Version 2022.2-Product Build 20220804 for Intel(R) 64 architecture applications\n",
      "  - Intel(R) MKL-DNN v3.3.2 (Git Hash 2dc95a2ad0841e29db8b22fbccaf3e5da7992b01)\n",
      "  - OpenMP 201511 (a.k.a. OpenMP 4.5)\n",
      "  - LAPACK is enabled (usually provided by MKL)\n",
      "  - NNPACK is enabled\n",
      "  - CPU capability usage: AVX2\n",
      "  - CUDA Runtime 12.1\n",
      "  - NVCC architecture flags: -gencode;arch=compute_50,code=sm_50;-gencode;arch=compute_60,code=sm_60;-gencode;arch=compute_70,code=sm_70;-gencode;arch=compute_75,code=sm_75;-gencode;arch=compute_80,code=sm_80;-gencode;arch=compute_86,code=sm_86;-gencode;arch=compute_90,code=sm_90\n",
      "  - CuDNN 8.9.2\n",
      "  - Magma 2.6.1\n",
      "  - Build settings: BLAS_INFO=mkl, BUILD_TYPE=Release, CUDA_VERSION=12.1, CUDNN_VERSION=8.9.2, CXX_COMPILER=/opt/rh/devtoolset-9/root/usr/bin/c++, CXX_FLAGS= -D_GLIBCXX_USE_CXX11_ABI=0 -fabi-version=11 -fvisibility-inlines-hidden -DUSE_PTHREADPOOL -DNDEBUG -DUSE_KINETO -DLIBKINETO_NOROCTRACER -DUSE_FBGEMM -DUSE_QNNPACK -DUSE_PYTORCH_QNNPACK -DUSE_XNNPACK -DSYMBOLICATE_MOBILE_DEBUG_HANDLE -O2 -fPIC -Wall -Wextra -Werror=return-type -Werror=non-virtual-dtor -Werror=bool-operation -Wnarrowing -Wno-missing-field-initializers -Wno-type-limits -Wno-array-bounds -Wno-unknown-pragmas -Wno-unused-parameter -Wno-unused-function -Wno-unused-result -Wno-strict-overflow -Wno-strict-aliasing -Wno-stringop-overflow -Wsuggest-override -Wno-psabi -Wno-error=pedantic -Wno-error=old-style-cast -Wno-missing-braces -fdiagnostics-color=always -faligned-new -Wno-unused-but-set-variable -Wno-maybe-uninitialized -fno-math-errno -fno-trapping-math -Werror=format -Wno-stringop-overflow, LAPACK_INFO=mkl, PERF_WITH_AVX=1, PERF_WITH_AVX2=1, PERF_WITH_AVX512=1, TORCH_VERSION=2.2.2, USE_CUDA=ON, USE_CUDNN=ON, USE_EXCEPTION_PTR=1, USE_GFLAGS=OFF, USE_GLOG=OFF, USE_MKL=ON, USE_MKLDNN=ON, USE_MPI=OFF, USE_NCCL=1, USE_NNPACK=ON, USE_OPENMP=ON, USE_ROCM=OFF, USE_ROCM_KERNEL_ASSERT=OFF, \n",
      "\n"
     ]
    }
   ],
   "execution_count": 3
  },
  {
   "metadata": {
    "ExecuteTime": {
     "end_time": "2024-04-23T22:43:23.056860Z",
     "start_time": "2024-04-23T22:43:23.051672Z"
    }
   },
   "cell_type": "code",
   "source": [
    "import doxapy\n",
    "from tabulate import tabulate\n",
    "\n",
    "def evaluate(gt_imgs, pr_imgs, print_results=True):\n",
    "    perf_data = []\n",
    "\n",
    "    for gt_img, pr_img in zip(gt_imgs, pr_imgs):\n",
    "        perf_data.append(doxapy.calculate_performance(gt_img, pr_img))\n",
    "\n",
    "    mean_values = {}\n",
    "\n",
    "    for d in perf_data:\n",
    "        for key, value in d.items():\n",
    "            if key not in mean_values:\n",
    "                mean_values[key] = []\n",
    "            mean_values[key].append(value)\n",
    "        \n",
    "    nice_names = {\n",
    "        'accuracy': 'Accuracy (%)',\n",
    "        'fm': 'F-measure',\n",
    "        'mcc': 'Matthews Correlation Coefficient',\n",
    "        'psnr': 'Peak Signal-to-Noise Ratio (PSNR)',\n",
    "        'nrm': 'Normalized Root Mean Square Error (NRM)',\n",
    "        'drdm': 'Distance-based Performance Measure (DRDM)'\n",
    "    }\n",
    "\n",
    "    mean_values_single = {nice_names[key]: round(value[0], 2) for key, value in mean_values.items()}\n",
    "    \n",
    "    if(print_results == True):\n",
    "        data = [\n",
    "            [\"Metric\", \"Processed Images\"],\n",
    "            [\"Accuracy (%)\", \"{:.2f}\".format(mean_values_single['accuracy'])],\n",
    "            [\"F-measure\", \"{:.2f}\".format(mean_values_single['fm'])],\n",
    "            [\"Matthews Correlation Coefficient\", \"{:.2f}\".format(mean_values_single['mcc'])],\n",
    "            [\"Peak Signal-to-Noise Ratio (PSNR)\", \"{:.2f}\".format(mean_values_single['psnr'])],\n",
    "            [\"Normalized Root Mean Square Error (NRM)\", \"{:.2f}\".format(mean_values_single['nrm'])],\n",
    "            [\"Distance-based Performance Measure (DRDM)\", \"{:.2f}\".format(mean_values_single['drdm'])],\n",
    "        ]\n",
    "\n",
    "        print(tabulate(data, headers=\"firstrow\", tablefmt=\"grid\"))\n",
    "\n",
    "    return mean_values_single\n",
    "\n",
    "def show_metrics_table(metrics_dicts):\n",
    "    metrics_names = list(metrics_dicts.values())[0].keys()\n",
    "\n",
    "    headers = [\"Metric\"] + list(metrics_dicts.keys())\n",
    "\n",
    "    table_data = []\n",
    "\n",
    "    for metric_name in metrics_names:\n",
    "        row_data = [metric_name]\n",
    "        for metrics_dict in metrics_dicts.values():\n",
    "            row_data.append(\"{:.2f}\".format(metrics_dict[metric_name]))\n",
    "        table_data.append(row_data)\n",
    "\n",
    "    print(tabulate(table_data, headers=headers, tablefmt=\"grid\"))"
   ],
   "id": "2aae19578254d820",
   "outputs": [],
   "execution_count": 6
  },
  {
   "metadata": {
    "ExecuteTime": {
     "end_time": "2024-04-23T22:44:39.459516Z",
     "start_time": "2024-04-23T22:44:39.455344Z"
    }
   },
   "cell_type": "code",
   "source": [
    "from tabulate import tabulate\n",
    "\n",
    "def evaluate(gt_imgs, pr_imgs, print_results=True):\n",
    "    perf_data = []\n",
    "\n",
    "    # Calculate performance for each ground truth and predicted image pair\n",
    "    for gt_img, pr_img in zip(gt_imgs, pr_imgs):\n",
    "        perf_data.append(doxapy.calculate_performance(gt_img, pr_img))\n",
    "\n",
    "    mean_values = {}\n",
    "\n",
    "    # Aggregate values for each metric across all image comparisons\n",
    "    for d in perf_data:\n",
    "        for key, value in d.items():\n",
    "            if key not in mean_values:\n",
    "                mean_values[key] = []\n",
    "            mean_values[key].append(value)\n",
    "        \n",
    "    # Prepare nicer names for the metrics to display\n",
    "    nice_names = {\n",
    "        'accuracy': 'Accuracy (%)',\n",
    "        'fm': 'F-measure',\n",
    "        'mcc': 'Matthews Correlation Coefficient',\n",
    "        'psnr': 'Peak Signal-to-Noise Ratio (PSNR)',\n",
    "        'nrm': 'Normalized Root Mean Square Error (NRM)',\n",
    "        'drdm': 'Distance-based Performance Measure (DRDM)'\n",
    "    }\n",
    "\n",
    "    # Prepare a dictionary with the average values for each metric, if present\n",
    "    mean_values_single = {}\n",
    "    for key, values in mean_values.items():\n",
    "        if key in nice_names:\n",
    "            mean_values_single[nice_names[key]] = round(sum(values) / len(values), 2)\n",
    "\n",
    "    # Print results if specified\n",
    "    if print_results:\n",
    "        data = [[\"Metric\", \"Processed Images\"]]\n",
    "        for metric_name, metric_value in mean_values_single.items():\n",
    "            data.append([metric_name, \"{:.2f}\".format(metric_value)])\n",
    "\n",
    "        print(tabulate(data, headers=\"firstrow\", tablefmt=\"grid\"))\n",
    "\n",
    "    return mean_values_single"
   ],
   "id": "b83063c86c3db6ad",
   "outputs": [],
   "execution_count": 8
  },
  {
   "metadata": {
    "ExecuteTime": {
     "end_time": "2024-04-23T22:44:40.198263Z",
     "start_time": "2024-04-23T22:44:40.180974Z"
    }
   },
   "cell_type": "code",
   "source": [
    "import cv2\n",
    "# from assignment_1.binarization.evaluation import evaluate\n",
    "gt_path = 'data/out/true_119.png'\n",
    "gt_path1 = 'data/out/20_gt.bmp'\n",
    "pr_path1 = 'data/out/20.png'\n",
    "pr_path = 'data/out/pred_119.png'\n",
    "gt_img = cv2.imread(gt_path, cv2.IMREAD_GRAYSCALE)\n",
    "gt_img1 = cv2.imread(gt_path1, cv2.IMREAD_GRAYSCALE)\n",
    "pr_img = cv2.imread(pr_path, cv2.IMREAD_GRAYSCALE)\n",
    "pr_img1 = cv2.imread(pr_path1, cv2.IMREAD_GRAYSCALE)\n",
    "gt_imgs = [gt_img, gt_img1]\n",
    "pr_imgs = [pr_img, pr_img1]\n",
    "\n",
    "evaluate(gt_imgs, pr_imgs, print_results=True)"
   ],
   "id": "1541f2fe60a7b48c",
   "outputs": [
    {
     "name": "stdout",
     "output_type": "stream",
     "text": [
      "+-------------------------------------------+--------------------+\n",
      "| Metric                                    |   Processed Images |\n",
      "+===========================================+====================+\n",
      "| Accuracy (%)                              |              95.51 |\n",
      "+-------------------------------------------+--------------------+\n",
      "| F-measure                                 |              82.37 |\n",
      "+-------------------------------------------+--------------------+\n",
      "| Matthews Correlation Coefficient          |               0.81 |\n",
      "+-------------------------------------------+--------------------+\n",
      "| Peak Signal-to-Noise Ratio (PSNR)         |              13.55 |\n",
      "+-------------------------------------------+--------------------+\n",
      "| Normalized Root Mean Square Error (NRM)   |               0.1  |\n",
      "+-------------------------------------------+--------------------+\n",
      "| Distance-based Performance Measure (DRDM) |               4.65 |\n",
      "+-------------------------------------------+--------------------+\n"
     ]
    },
    {
     "data": {
      "text/plain": [
       "{'Accuracy (%)': 95.51,\n",
       " 'F-measure': 82.37,\n",
       " 'Matthews Correlation Coefficient': 0.81,\n",
       " 'Peak Signal-to-Noise Ratio (PSNR)': 13.55,\n",
       " 'Normalized Root Mean Square Error (NRM)': 0.1,\n",
       " 'Distance-based Performance Measure (DRDM)': 4.65}"
      ]
     },
     "execution_count": 9,
     "metadata": {},
     "output_type": "execute_result"
    }
   ],
   "execution_count": 9
  },
  {
   "metadata": {},
   "cell_type": "code",
   "outputs": [],
   "execution_count": null,
   "source": "",
   "id": "1fa5b91daf9762ca"
  }
 ],
 "metadata": {
  "kernelspec": {
   "display_name": "Python 3",
   "language": "python",
   "name": "python3"
  },
  "language_info": {
   "codemirror_mode": {
    "name": "ipython",
    "version": 2
   },
   "file_extension": ".py",
   "mimetype": "text/x-python",
   "name": "python",
   "nbconvert_exporter": "python",
   "pygments_lexer": "ipython2",
   "version": "2.7.6"
  }
 },
 "nbformat": 4,
 "nbformat_minor": 5
}
